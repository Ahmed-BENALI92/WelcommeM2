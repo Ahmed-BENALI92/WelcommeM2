{
 "cells": [
  {
   "cell_type": "markdown",
   "metadata": {
    "id": "8R1JWbgNBt_S"
   },
   "source": [
    "**Import library**"
   ]
  },
  {
   "cell_type": "code",
   "execution_count": 1,
   "metadata": {
    "id": "Ig3S0krPBkJE"
   },
   "outputs": [],
   "source": [
    "import pandas as pd"
   ]
  },
  {
   "cell_type": "markdown",
   "metadata": {
    "id": "70xUiHzWEaft"
   },
   "source": [
    "**Download file**"
   ]
  },
  {
   "cell_type": "code",
   "execution_count": 3,
   "metadata": {
    "colab": {
     "base_uri": "https://localhost:8080/"
    },
    "id": "oIg1f9F8B7GG",
    "outputId": "0f1f521a-9a13-4261-e60c-e5466ff1d618"
   },
   "outputs": [
    {
     "name": "stdout",
     "output_type": "stream",
     "text": [
      "Mounted at /content/drive\n"
     ]
    }
   ],
   "source": [
    "# Load the Drive helper and mount\n",
    "from google.colab import drive\n",
    "\n",
    "# This will prompt for authorization.\n",
    "drive.mount('/content/drive')"
   ]
  },
  {
   "cell_type": "code",
   "execution_count": 4,
   "metadata": {
    "colab": {
     "base_uri": "https://localhost:8080/"
    },
    "id": "Yy-O-RcYQU4A",
    "outputId": "938f6538-39bc-45fc-eadc-687e4cf41e85"
   },
   "outputs": [
    {
     "name": "stdout",
     "output_type": "stream",
     "text": [
      " 2021-21_M1C_MPSI-CC2_Vision.pptx\n",
      "'2021-22_M1C_Etude_de_cas_Enonce (1).gdoc'\n",
      " 2021-22_M1C_Etude_de_cas_Enonce.gdoc\n",
      " 2021-22_M1C_Etude_de_cas_Enonce.pdf\n",
      " 2021-22_M1C_MPSI-CC1_Perimetre.pptx\n",
      " 2021-22_M1C_MPSI_Enonce_CC2.docx\n",
      " Archive.zip\n",
      " BurnupIncertainCC2.xlsx\n",
      " Burnup_Incertain.pptx\n",
      "'Colab Notebooks'\n",
      " CorrectionDKP.py\n",
      "'DDD Impact in software development.odt'\n",
      "'Document sans titre (1).gdoc'\n",
      "'Document sans titre (2).gdoc'\n",
      "'Document sans titre.gdoc'\n",
      " DonnéePrixCarburant.csv\n",
      "'English back up exam Rayhane Jebbari.gdoc'\n",
      "'English back up exam Rayhane Jebbari.pdf'\n",
      " Entreprise.gdoc\n",
      " exo4.zip\n",
      " FSR_front.zip\n",
      " FSR.zip\n",
      " GRH.gdoc\n",
      " laravel_projet.zip\n",
      " Mémoire.gdoc\n",
      "'PESTEL RayhaneJEBBARI (1).pdf'\n",
      "'PESTEL RayhaneJEBBARI.pdf'\n",
      " ProgConcurrente.zip\n",
      "'Support_survivre_lune (1).docx'\n",
      " Support_survivre_lune.docx\n"
     ]
    }
   ],
   "source": [
    "# After executing the cell above, Drive\n",
    "# files will be present in \"/content/drive/My Drive\".\n",
    "!ls \"/content/drive/My Drive\""
   ]
  },
  {
   "cell_type": "markdown",
   "metadata": {
    "id": "yQUrB9zIEl6G"
   },
   "source": [
    "Read CSV"
   ]
  },
  {
   "cell_type": "code",
   "execution_count": 73,
   "metadata": {
    "colab": {
     "base_uri": "https://localhost:8080/",
     "height": 902
    },
    "id": "RWTjrzfSpbbe",
    "outputId": "e2373f3a-2028-42b8-c477-47c5b8079821",
    "scrolled": true
   },
   "outputs": [
    {
     "name": "stdout",
     "output_type": "stream",
     "text": [
      "(1548135, 10)\n",
      "Index(['prix_id', 'pdv_id', 'nom', 'maj', 'valeur', 'adresse', 'ville',\n",
      "       'latitude', 'longitude', 'departement'],\n",
      "      dtype='object')\n",
      "prix_id          int64\n",
      "pdv_id           int64\n",
      "nom             object\n",
      "maj             object\n",
      "valeur         float64\n",
      "adresse         object\n",
      "ville           object\n",
      "latitude       float64\n",
      "longitude      float64\n",
      "departement      int64\n",
      "dtype: object\n",
      "   prix_id  pdv_id     nom                  maj  valeur  \\\n",
      "0        1       1  Gazole  2022-01-03T08:44:18   1.572   \n",
      "1        2       1  Gazole  2022-01-05T10:08:11   1.560   \n",
      "2        3       1  Gazole  2022-01-10T10:09:08   1.603   \n",
      "3        4       1  Gazole  2022-01-17T12:34:42   1.616   \n",
      "4        5       1  Gazole  2022-01-17T12:34:44   1.616   \n",
      "5        6       1  Gazole  2022-01-17T12:34:45   1.616   \n",
      "6        7       1  Gazole  2022-01-21T09:46:30   1.652   \n",
      "7        8       1  Gazole  2022-01-25T08:25:26   1.643   \n",
      "8        9       1  Gazole  2022-01-28T10:21:42   1.643   \n",
      "9       10       1  Gazole  2022-01-28T10:21:43   1.643   \n",
      "\n",
      "                 adresse                  ville   latitude  longitude  \\\n",
      "0  596 AVENUE DE TREVOUX  SAINT-DENIS-LèS-BOURG  4620100.0   519800.0   \n",
      "1  596 AVENUE DE TREVOUX  SAINT-DENIS-LèS-BOURG  4620100.0   519800.0   \n",
      "2  596 AVENUE DE TREVOUX  SAINT-DENIS-LèS-BOURG  4620100.0   519800.0   \n",
      "3  596 AVENUE DE TREVOUX  SAINT-DENIS-LèS-BOURG  4620100.0   519800.0   \n",
      "4  596 AVENUE DE TREVOUX  SAINT-DENIS-LèS-BOURG  4620100.0   519800.0   \n",
      "5  596 AVENUE DE TREVOUX  SAINT-DENIS-LèS-BOURG  4620100.0   519800.0   \n",
      "6  596 AVENUE DE TREVOUX  SAINT-DENIS-LèS-BOURG  4620100.0   519800.0   \n",
      "7  596 AVENUE DE TREVOUX  SAINT-DENIS-LèS-BOURG  4620100.0   519800.0   \n",
      "8  596 AVENUE DE TREVOUX  SAINT-DENIS-LèS-BOURG  4620100.0   519800.0   \n",
      "9  596 AVENUE DE TREVOUX  SAINT-DENIS-LèS-BOURG  4620100.0   519800.0   \n",
      "\n",
      "   departement  \n",
      "0            1  \n",
      "1            1  \n",
      "2            1  \n",
      "3            1  \n",
      "4            1  \n",
      "5            1  \n",
      "6            1  \n",
      "7            1  \n",
      "8            1  \n",
      "9            1  \n",
      "prix_id        0\n",
      "pdv_id         0\n",
      "nom            0\n",
      "maj            0\n",
      "valeur         0\n",
      "adresse        0\n",
      "ville          0\n",
      "latitude       0\n",
      "longitude      0\n",
      "departement    0\n",
      "dtype: int64\n"
     ]
    },
    {
     "data": {
      "text/html": [
       "<div>\n",
       "<style scoped>\n",
       "    .dataframe tbody tr th:only-of-type {\n",
       "        vertical-align: middle;\n",
       "    }\n",
       "\n",
       "    .dataframe tbody tr th {\n",
       "        vertical-align: top;\n",
       "    }\n",
       "\n",
       "    .dataframe thead th {\n",
       "        text-align: right;\n",
       "    }\n",
       "</style>\n",
       "<table border=\"1\" class=\"dataframe\">\n",
       "  <thead>\n",
       "    <tr style=\"text-align: right;\">\n",
       "      <th></th>\n",
       "      <th>prix_id</th>\n",
       "      <th>pdv_id</th>\n",
       "      <th>valeur</th>\n",
       "      <th>latitude</th>\n",
       "      <th>longitude</th>\n",
       "      <th>departement</th>\n",
       "    </tr>\n",
       "  </thead>\n",
       "  <tbody>\n",
       "    <tr>\n",
       "      <th>count</th>\n",
       "      <td>1.548135e+06</td>\n",
       "      <td>1.548135e+06</td>\n",
       "      <td>1.548135e+06</td>\n",
       "      <td>1.548135e+06</td>\n",
       "      <td>1.548135e+06</td>\n",
       "      <td>1.548135e+06</td>\n",
       "    </tr>\n",
       "    <tr>\n",
       "      <th>mean</th>\n",
       "      <td>2.514839e+06</td>\n",
       "      <td>6.941821e+03</td>\n",
       "      <td>1.873000e+00</td>\n",
       "      <td>4.683056e+06</td>\n",
       "      <td>2.627329e+05</td>\n",
       "      <td>5.097980e+01</td>\n",
       "    </tr>\n",
       "    <tr>\n",
       "      <th>std</th>\n",
       "      <td>1.456432e+06</td>\n",
       "      <td>3.935400e+03</td>\n",
       "      <td>1.650533e-01</td>\n",
       "      <td>2.246599e+05</td>\n",
       "      <td>2.768000e+05</td>\n",
       "      <td>2.685983e+01</td>\n",
       "    </tr>\n",
       "    <tr>\n",
       "      <th>min</th>\n",
       "      <td>1.000000e+00</td>\n",
       "      <td>1.000000e+00</td>\n",
       "      <td>1.004000e+00</td>\n",
       "      <td>4.139100e+06</td>\n",
       "      <td>-4.723000e+05</td>\n",
       "      <td>1.000000e+00</td>\n",
       "    </tr>\n",
       "    <tr>\n",
       "      <th>25%</th>\n",
       "      <td>1.243828e+06</td>\n",
       "      <td>3.629000e+03</td>\n",
       "      <td>1.755000e+00</td>\n",
       "      <td>4.488400e+06</td>\n",
       "      <td>7.140000e+04</td>\n",
       "      <td>3.000000e+01</td>\n",
       "    </tr>\n",
       "    <tr>\n",
       "      <th>50%</th>\n",
       "      <td>2.513239e+06</td>\n",
       "      <td>6.926000e+03</td>\n",
       "      <td>1.862000e+00</td>\n",
       "      <td>4.725100e+06</td>\n",
       "      <td>2.492000e+05</td>\n",
       "      <td>5.300000e+01</td>\n",
       "    </tr>\n",
       "    <tr>\n",
       "      <th>75%</th>\n",
       "      <td>3.765658e+06</td>\n",
       "      <td>1.039200e+04</td>\n",
       "      <td>1.979000e+00</td>\n",
       "      <td>4.878200e+06</td>\n",
       "      <td>4.858000e+05</td>\n",
       "      <td>7.500000e+01</td>\n",
       "    </tr>\n",
       "    <tr>\n",
       "      <th>max</th>\n",
       "      <td>5.048571e+06</td>\n",
       "      <td>1.364300e+04</td>\n",
       "      <td>3.399000e+00</td>\n",
       "      <td>5.106500e+06</td>\n",
       "      <td>9.547000e+05</td>\n",
       "      <td>9.500000e+01</td>\n",
       "    </tr>\n",
       "  </tbody>\n",
       "</table>\n",
       "</div>"
      ],
      "text/plain": [
       "            prix_id        pdv_id        valeur      latitude     longitude  \\\n",
       "count  1.548135e+06  1.548135e+06  1.548135e+06  1.548135e+06  1.548135e+06   \n",
       "mean   2.514839e+06  6.941821e+03  1.873000e+00  4.683056e+06  2.627329e+05   \n",
       "std    1.456432e+06  3.935400e+03  1.650533e-01  2.246599e+05  2.768000e+05   \n",
       "min    1.000000e+00  1.000000e+00  1.004000e+00  4.139100e+06 -4.723000e+05   \n",
       "25%    1.243828e+06  3.629000e+03  1.755000e+00  4.488400e+06  7.140000e+04   \n",
       "50%    2.513239e+06  6.926000e+03  1.862000e+00  4.725100e+06  2.492000e+05   \n",
       "75%    3.765658e+06  1.039200e+04  1.979000e+00  4.878200e+06  4.858000e+05   \n",
       "max    5.048571e+06  1.364300e+04  3.399000e+00  5.106500e+06  9.547000e+05   \n",
       "\n",
       "        departement  \n",
       "count  1.548135e+06  \n",
       "mean   5.097980e+01  \n",
       "std    2.685983e+01  \n",
       "min    1.000000e+00  \n",
       "25%    3.000000e+01  \n",
       "50%    5.300000e+01  \n",
       "75%    7.500000e+01  \n",
       "max    9.500000e+01  "
      ]
     },
     "execution_count": 73,
     "metadata": {},
     "output_type": "execute_result"
    }
   ],
   "source": [
    "from sklearn.linear_model import LinearRegression\n",
    "from sklearn.metrics import mean_squared_error, r2_score\n",
    "from sklearn.model_selection import train_test_split\n",
    "\n",
    "import matplotlib.pyplot as plt\n",
    "import datetime as dt\n",
    "import numpy as np\n",
    "\n",
    "PrixCarburant = pd.read_csv(\"/Users/julie/Documents/Ecole Ahmed /ML/Projet/2022.csv\")\n",
    "data = PrixCarburant.loc[PrixCarburant['nom'] == 'Gazole']\n",
    "\n",
    "#Supprimer moi les data avec valeur < 1\n",
    "data = data.loc[data['valeur'] > 1]\n",
    "#Supprimer moi les data avec valeur < 1\n",
    "data = data.loc[data['valeur'] < 3.50]\n",
    "#afficher les dimensions de la table des données (propriété shape)\n",
    "print(data.shape)\n",
    "#afficher la liste des colonnes data.columns\n",
    "print(data.columns)\n",
    "#afficher la liste des colonnes et leurs types (propriété dtypes)\n",
    "print(data.dtypes)\n",
    "#afficher les 10 premières lignes avec data.head(10)\n",
    "print(data.head(10))\n",
    "#compter les valeurs nulles\n",
    "print(data.isnull().sum())\n",
    "#description des données\n",
    "data.describe()"
   ]
  },
  {
   "cell_type": "code",
   "execution_count": 74,
   "metadata": {},
   "outputs": [
    {
     "name": "stdout",
     "output_type": "stream",
     "text": [
      "[1.572 1.56  1.603 ... 1.796 1.799 1.81 ]\n",
      "[[     1 738158]\n",
      " [     1 738160]\n",
      " [     1 738165]\n",
      " ...\n",
      " [    95 738516]\n",
      " [    95 738517]\n",
      " [    95 738519]]\n"
     ]
    }
   ],
   "source": [
    "data.maj = pd.to_datetime(data.maj)\n",
    "data.maj = data.maj.map(dt.datetime.toordinal)\n",
    "\n",
    "Y = data.valeur.to_numpy()\n",
    "\n",
    "X = data[['departement', 'maj']].to_numpy()\n",
    "\n",
    "\n",
    "print(Y)\n",
    "print(X)"
   ]
  },
  {
   "cell_type": "code",
   "execution_count": 78,
   "metadata": {},
   "outputs": [
    {
     "name": "stdout",
     "output_type": "stream",
     "text": [
      "#######Resultat########\n",
      "Prediction 1.873046948039131\n",
      "#######Resultat########\n",
      "Prediction 1.873046948039131\n",
      "#######Resultat########\n",
      "Coefficients: [3.82273713e-04 1.26134639e-05]\n",
      "Intercept: -7.459377443174928\n",
      "Mean squared error (MSE): 0.03\n",
      "Coefficient of determination (R^2): 0.00\n"
     ]
    }
   ],
   "source": [
    "X_train, X_test, Y_train, Y_test = train_test_split(X, Y, test_size=0.3)\n",
    "\n",
    "\n",
    "regressor = LinearRegression()\n",
    "\n",
    "regressor.fit(X_train, Y_train)\n",
    "Y_pred = regressor.predict(X_test)\n",
    "print(\"#######Resultat########\")\n",
    "print('Prediction',Y_pred.mean())\n",
    "print(\"#######Resultat########\")\n",
    "print('Prediction',Y_pred.mean())\n",
    "print(\"#######Resultat########\")\n",
    "print('Coefficients:', regressor.coef_)\n",
    "print('Intercept:', regressor.intercept_)\n",
    "print('Mean squared error (MSE): %.2f'\n",
    "      % mean_squared_error(Y_test, Y_pred))\n",
    "print('Coefficient of determination (R^2): %.2f'\n",
    "      % r2_score(Y_test, Y_pred))\n"
   ]
  },
  {
   "cell_type": "code",
   "execution_count": null,
   "metadata": {},
   "outputs": [],
   "source": []
  }
 ],
 "metadata": {
  "colab": {
   "provenance": []
  },
  "kernelspec": {
   "display_name": "Python 3 (ipykernel)",
   "language": "python",
   "name": "python3"
  },
  "language_info": {
   "codemirror_mode": {
    "name": "ipython",
    "version": 3
   },
   "file_extension": ".py",
   "mimetype": "text/x-python",
   "name": "python",
   "nbconvert_exporter": "python",
   "pygments_lexer": "ipython3",
   "version": "3.9.13"
  }
 },
 "nbformat": 4,
 "nbformat_minor": 1
}
